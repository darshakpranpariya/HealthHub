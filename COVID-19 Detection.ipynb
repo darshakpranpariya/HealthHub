{
 "cells": [
  {
   "cell_type": "markdown",
   "metadata": {},
   "source": [
    "# COVID-19 DETECTOR USING IMAGE OF CHEST-XRAY."
   ]
  },
  {
   "cell_type": "code",
   "execution_count": 32,
   "metadata": {},
   "outputs": [
    {
     "name": "stdout",
     "output_type": "stream",
     "text": [
      "171\n"
     ]
    }
   ],
   "source": [
    "import os #for access directory and folder of operating system\n",
    "import numpy as np\n",
    "import csv\n",
    "import pandas\n",
    "import cv2 #for image conversion means convert into pixle\n",
    "import matplotlib.pyplot as plt #for show image that are converted into the array of pixel\n",
    "training_data=[] #Traing data will store into that list\n",
    "path = 'C:/Users/om/Desktop/covid-chestxray-dataset-master/images'\n",
    "result = pandas.read_csv('C:/Users/om/Desktop/covid-chestxray-dataset-master/metadata.csv')\n",
    "for l in range(0,len(result)):\n",
    "    img_array = cv2.imread(os.path.join(path,result['filename'][l]),cv2.IMREAD_GRAYSCALE) #convert jpg to pixle of array and also convert into grayscale...........\n",
    "    new_array = cv2.resize(img_array,(50,50)) #50,50 -> convert size of image into 50*50 pixel\n",
    "    class_name = result['finding'][l] #label's\n",
    "    if(class_name==\"COVID-19\"):\n",
    "        class_name=1 \n",
    "    else:\n",
    "        class_name=0\n",
    "    training_data.append([new_array,class_name])\n",
    "print(len(training_data))"
   ]
  },
  {
   "cell_type": "code",
   "execution_count": 33,
   "metadata": {},
   "outputs": [],
   "source": [
    "import random #for shuffle all the traiing_input array\n",
    "random.shuffle(training_data)"
   ]
  },
  {
   "cell_type": "code",
   "execution_count": 34,
   "metadata": {},
   "outputs": [
    {
     "name": "stdout",
     "output_type": "stream",
     "text": [
      "0\n"
     ]
    }
   ],
   "source": [
    "X = []\n",
    "Y = []\n",
    "for features,label in training_data:\n",
    "    X.append(features)\n",
    "    Y.append(label)\n",
    "X = np.array(X).reshape(-1,50,50,1) # 1-> here image is gray scale so write 1 , if ur image is rgb then write  3.\n",
    "Y = np.array(Y)\n",
    "\n",
    "X = X/255.0 #Reduce pixle size\n",
    "print(Y[151])"
   ]
  },
  {
   "cell_type": "code",
   "execution_count": 35,
   "metadata": {},
   "outputs": [],
   "source": [
    "from tensorflow.keras.models import Sequential\n",
    "from tensorflow.keras.layers import Conv2D, MaxPooling2D\n",
    "from tensorflow.keras.layers import Activation, Dropout, Flatten, Dense\n",
    "\n",
    "model = Sequential()\n",
    "model.add(Conv2D(32, (3, 3), input_shape=(50, 50, 1))) # 32->number of nuerons, (3,3)->window size of input, (50,50,1)->image size 50*50 and 1 because image is gray scale....\n",
    "model.add(Activation('relu')) #Activation function\n",
    "model.add(MaxPooling2D(pool_size=(2, 2))) #MaxPooling2D is layer which select maximum size window and combine into new 2*2 array so pool_size is (2,2).......\n",
    "\n",
    "model.add(Conv2D(32, (3, 3)))\n",
    "model.add(Activation('relu'))\n",
    "model.add(MaxPooling2D(pool_size=(2, 2)))\n",
    "\n",
    "model.add(Conv2D(64, (3, 3)))\n",
    "model.add(Activation('relu'))\n",
    "model.add(MaxPooling2D(pool_size=(2, 2)))\n",
    "\n",
    "# the model so far outputs 3D feature maps (height, width, features)\n",
    "\n",
    "model.add(Flatten())# this converts our 3D feature maps to 1D feature vectors\n",
    "\n",
    "model.add(Dense(64)) # (64)->nuerons in Dense layer\n",
    "model.add(Activation('relu'))\n",
    "\n",
    "# model.add(Dropout(0.5))\n",
    "\n",
    "model.add(Dense(2)) # final 1 output layer\n",
    "model.add(Activation('softmax'))\n",
    "# COMPILEself\n",
    "model.compile(loss='sparse_categorical_crossentropy',\n",
    "              optimizer='adam',\n",
    "              metrics=['accuracy'])#sparse_categorycal_crossentropy=if more than one class,categorycal_crossentropy=if predict only one class\n",
    "\n"
   ]
  },
  {
   "cell_type": "code",
   "execution_count": 37,
   "metadata": {},
   "outputs": [
    {
     "name": "stdout",
     "output_type": "stream",
     "text": [
      "Train on 153 samples, validate on 18 samples\n",
      "Epoch 1/18\n",
      "153/153 [==============================] - 1s 4ms/sample - loss: 0.2246 - accuracy: 0.9477 - val_loss: 0.8060 - val_accuracy: 0.8333\n",
      "Epoch 2/18\n",
      "153/153 [==============================] - 1s 5ms/sample - loss: 0.1683 - accuracy: 0.9346 - val_loss: 0.8820 - val_accuracy: 0.5556\n",
      "Epoch 3/18\n",
      "153/153 [==============================] - 1s 5ms/sample - loss: 0.1828 - accuracy: 0.9020 - val_loss: 0.7183 - val_accuracy: 0.7778\n",
      "Epoch 4/18\n",
      "153/153 [==============================] - 1s 5ms/sample - loss: 0.1543 - accuracy: 0.9346 - val_loss: 1.1721 - val_accuracy: 0.7778\n",
      "Epoch 5/18\n",
      "153/153 [==============================] - 1s 5ms/sample - loss: 0.4002 - accuracy: 0.8431 - val_loss: 0.6036 - val_accuracy: 0.7778\n",
      "Epoch 6/18\n",
      "153/153 [==============================] - 1s 5ms/sample - loss: 0.2194 - accuracy: 0.9020 - val_loss: 0.7127 - val_accuracy: 0.8333\n",
      "Epoch 7/18\n",
      "153/153 [==============================] - 1s 5ms/sample - loss: 0.1289 - accuracy: 0.9608 - val_loss: 0.7530 - val_accuracy: 0.7778\n",
      "Epoch 8/18\n",
      "153/153 [==============================] - 1s 5ms/sample - loss: 0.0780 - accuracy: 0.9804 - val_loss: 0.6740 - val_accuracy: 0.8333\n",
      "Epoch 9/18\n",
      "153/153 [==============================] - 1s 5ms/sample - loss: 0.0549 - accuracy: 0.9869 - val_loss: 1.0640 - val_accuracy: 0.7778\n",
      "Epoch 10/18\n",
      "153/153 [==============================] - 1s 5ms/sample - loss: 0.0365 - accuracy: 0.9935 - val_loss: 0.8094 - val_accuracy: 0.7778\n",
      "Epoch 11/18\n",
      "153/153 [==============================] - 1s 5ms/sample - loss: 0.0562 - accuracy: 0.9935 - val_loss: 0.9927 - val_accuracy: 0.7778\n",
      "Epoch 12/18\n",
      "153/153 [==============================] - 1s 5ms/sample - loss: 0.0190 - accuracy: 1.0000 - val_loss: 1.0375 - val_accuracy: 0.7222\n",
      "Epoch 13/18\n",
      "153/153 [==============================] - 1s 4ms/sample - loss: 0.0157 - accuracy: 1.0000 - val_loss: 1.0524 - val_accuracy: 0.7222\n",
      "Epoch 14/18\n",
      "153/153 [==============================] - 1s 4ms/sample - loss: 0.0107 - accuracy: 1.0000 - val_loss: 1.1094 - val_accuracy: 0.7778\n",
      "Epoch 15/18\n",
      "153/153 [==============================] - 1s 4ms/sample - loss: 0.0063 - accuracy: 1.0000 - val_loss: 1.0566 - val_accuracy: 0.7778\n",
      "Epoch 16/18\n",
      "153/153 [==============================] - 1s 5ms/sample - loss: 0.0054 - accuracy: 1.0000 - val_loss: 1.2030 - val_accuracy: 0.7778\n",
      "Epoch 17/18\n",
      "153/153 [==============================] - 1s 5ms/sample - loss: 0.0049 - accuracy: 1.0000 - val_loss: 1.0471 - val_accuracy: 0.7778\n",
      "Epoch 18/18\n",
      "153/153 [==============================] - 1s 5ms/sample - loss: 0.0032 - accuracy: 1.0000 - val_loss: 1.2549 - val_accuracy: 0.7778\n"
     ]
    },
    {
     "data": {
      "text/plain": [
       "<tensorflow.python.keras.callbacks.History at 0x273545049c8>"
      ]
     },
     "execution_count": 37,
     "metadata": {},
     "output_type": "execute_result"
    }
   ],
   "source": [
    "model.fit(X,Y,epochs=18,batch_size=5,validation_split=0.1) #batch_size=total number of input pass at a time, validation_split=(0.1)10% of input are use for validation......"
   ]
  },
  {
   "cell_type": "code",
   "execution_count": 41,
   "metadata": {},
   "outputs": [
    {
     "name": "stdout",
     "output_type": "stream",
     "text": [
      "Infected by coronavirus\n"
     ]
    }
   ],
   "source": [
    "import cv2\n",
    "import numpy as np\n",
    "import tensorflow as tf\n",
    "def convert_image(img):\n",
    "    ia = cv2.imread(img,cv2.IMREAD_GRAYSCALE)\n",
    "    na = cv2.resize(ia,(50,50))\n",
    "    return na.reshape(-1,50,50,1)\n",
    "\n",
    "t  = np.array(convert_image('C:/Users/om/Desktop/1.jpg'))\n",
    "t = tf.cast(t, tf.float32)\n",
    "p = model.predict(t)\n",
    "if(p[0][0]==1.0):\n",
    "    print(\"Not infected by coronavirus\")\n",
    "else:\n",
    "    print(\"Infected by coronavirus\")"
   ]
  },
  {
   "cell_type": "code",
   "execution_count": 9,
   "metadata": {},
   "outputs": [
    {
     "name": "stdout",
     "output_type": "stream",
     "text": [
      "Requirement already satisfied: h5py in e:\\anaconda\\envs\\tensorflow\\lib\\site-packages (2.9.0)\n",
      "Requirement already satisfied: numpy>=1.7 in e:\\anaconda\\envs\\tensorflow\\lib\\site-packages (from h5py) (1.16.4)\n",
      "Requirement already satisfied: six in e:\\anaconda\\envs\\tensorflow\\lib\\site-packages (from h5py) (1.12.0)\n"
     ]
    }
   ],
   "source": [
    "!pip install h5py\n"
   ]
  },
  {
   "cell_type": "code",
   "execution_count": 42,
   "metadata": {},
   "outputs": [
    {
     "name": "stdout",
     "output_type": "stream",
     "text": [
      "Saved model to disk\n"
     ]
    }
   ],
   "source": [
    "model_json = model.to_json()\n",
    "with open(\"model.json\", \"w\") as json_file:\n",
    "    json_file.write(model_json)\n",
    "# serialize weights to HDF5\n",
    "model.save_weights(\"model.h5\")\n",
    "print(\"Saved model to disk\")"
   ]
  },
  {
   "cell_type": "code",
   "execution_count": 1,
   "metadata": {},
   "outputs": [
    {
     "name": "stderr",
     "output_type": "stream",
     "text": [
      "Using TensorFlow backend.\n"
     ]
    },
    {
     "name": "stdout",
     "output_type": "stream",
     "text": [
      "Loaded model from disk\n"
     ]
    }
   ],
   "source": [
    "from tensorflow.python.keras.models import model_from_json\n",
    "import keras\n",
    "json_file = open('model.json', 'r')\n",
    "loaded_model_json = json_file.read()\n",
    "json_file.close()\n",
    "loaded_model = model_from_json(loaded_model_json)\n",
    "# load weights into new model\n",
    "loaded_model.load_weights(\"model.h5\")\n",
    "print(\"Loaded model from disk\")\n",
    " \n",
    "# evaluate loaded model on test data\n",
    "loaded_model.compile(loss='sparse_categorical_crossentropy', optimizer='adam', metrics=['accuracy'])\n",
    "# score = loaded_model.evaluate(X, Y, verbose=0)\n",
    "# print(\"%s: %.2f%%\" % (loaded_model.metrics_names[1], score[1]*100))\n"
   ]
  },
  {
   "cell_type": "code",
   "execution_count": 5,
   "metadata": {},
   "outputs": [
    {
     "name": "stdout",
     "output_type": "stream",
     "text": [
      "[[1. 0.]]\n",
      "Not infected by coronavirus\n"
     ]
    }
   ],
   "source": [
    "import cv2\n",
    "import numpy as np\n",
    "import tensorflow as tf\n",
    "def convert_image(img):\n",
    "    ia = cv2.imread(img,cv2.IMREAD_GRAYSCALE)\n",
    "    na = cv2.resize(ia,(50,50))\n",
    "    return na.reshape(-1,50,50,1)\n",
    "\n",
    "t  = np.array(convert_image('C:/Users/om/Desktop/3.jpg'))\n",
    "t = tf.cast(t, tf.float32)\n",
    "p = loaded_model.predict(t)\n",
    "print(p)\n",
    "if(p[0][0]==1.0):\n",
    "    print(\"Not infected by coronavirus\")\n",
    "else:\n",
    "    print(\"Infected by coronavirus\")"
   ]
  },
  {
   "cell_type": "code",
   "execution_count": null,
   "metadata": {},
   "outputs": [],
   "source": []
  }
 ],
 "metadata": {
  "kernelspec": {
   "display_name": "Python 3",
   "language": "python",
   "name": "python3"
  },
  "language_info": {
   "codemirror_mode": {
    "name": "ipython",
    "version": 3
   },
   "file_extension": ".py",
   "mimetype": "text/x-python",
   "name": "python",
   "nbconvert_exporter": "python",
   "pygments_lexer": "ipython3",
   "version": "3.7.4"
  }
 },
 "nbformat": 4,
 "nbformat_minor": 2
}
